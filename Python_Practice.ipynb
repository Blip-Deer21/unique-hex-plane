{
  "nbformat": 4,
  "nbformat_minor": 0,
  "metadata": {
    "colab": {
      "provenance": []
    },
    "kernelspec": {
      "name": "python3",
      "display_name": "Python 3"
    },
    "language_info": {
      "name": "python"
    }
  },
  "cells": [
    {
      "cell_type": "code",
      "source": [
        "%pip install gTTS"
      ],
      "metadata": {
        "colab": {
          "base_uri": "https://localhost:8080/"
        },
        "id": "r5Q8ltDsrVJh",
        "outputId": "aab2910a-0389-49b0-d2c9-305aba6c62a2"
      },
      "execution_count": null,
      "outputs": [
        {
          "output_type": "stream",
          "name": "stdout",
          "text": [
            "Collecting gTTS\n",
            "  Downloading gTTS-2.5.1-py3-none-any.whl (29 kB)\n",
            "Requirement already satisfied: requests<3,>=2.27 in /usr/local/lib/python3.10/dist-packages (from gTTS) (2.31.0)\n",
            "Requirement already satisfied: click<8.2,>=7.1 in /usr/local/lib/python3.10/dist-packages (from gTTS) (8.1.7)\n",
            "Requirement already satisfied: charset-normalizer<4,>=2 in /usr/local/lib/python3.10/dist-packages (from requests<3,>=2.27->gTTS) (3.3.2)\n",
            "Requirement already satisfied: idna<4,>=2.5 in /usr/local/lib/python3.10/dist-packages (from requests<3,>=2.27->gTTS) (3.7)\n",
            "Requirement already satisfied: urllib3<3,>=1.21.1 in /usr/local/lib/python3.10/dist-packages (from requests<3,>=2.27->gTTS) (2.0.7)\n",
            "Requirement already satisfied: certifi>=2017.4.17 in /usr/local/lib/python3.10/dist-packages (from requests<3,>=2.27->gTTS) (2024.7.4)\n",
            "Installing collected packages: gTTS\n",
            "Successfully installed gTTS-2.5.1\n"
          ]
        }
      ]
    },
    {
      "cell_type": "code",
      "execution_count": null,
      "metadata": {
        "id": "WEbsbde8-rx5",
        "colab": {
          "base_uri": "https://localhost:8080/"
        },
        "outputId": "23447595-56f4-4a4c-b5c4-3400f6951ea2"
      },
      "outputs": [
        {
          "output_type": "execute_result",
          "data": {
            "text/plain": [
              "32512"
            ]
          },
          "metadata": {},
          "execution_count": 3
        }
      ],
      "source": [
        "from gtts import gTTS\n",
        "import os\n",
        "mytext = \" you are stinky grace\"\n",
        "language = 'en'\n",
        "myobj = gTTS(text=mytext, lang=language, slow=True)\n",
        "myobj.save(\"welcome.mp3\")\n",
        "os.system(\"start welcome.mp3\")"
      ]
    },
    {
      "cell_type": "code",
      "source": [
        "str1 = \"heheheheheheheheheheheheheheheheheheheheheheheheheheheheheheheheheheheheheheheheheheheheheihehehehe\"\n",
        "temp = str1.index(\"i\")\n",
        "print(temp)"
      ],
      "metadata": {
        "colab": {
          "base_uri": "https://localhost:8080/"
        },
        "id": "RW1ndiIm_JPr",
        "outputId": "9fdae501-f4a9-494e-98a7-8c80f0f5dec5"
      },
      "execution_count": null,
      "outputs": [
        {
          "output_type": "stream",
          "name": "stdout",
          "text": [
            "90\n"
          ]
        }
      ]
    },
    {
      "cell_type": "code",
      "source": [
        "d = \"the entire keyboard\""
      ],
      "metadata": {
        "id": "yvk8X6Bv_JSi"
      },
      "execution_count": null,
      "outputs": []
    },
    {
      "cell_type": "code",
      "source": [
        "aList = [\"jack\", \"john\", \"sam\"]\n",
        "aList.insert(2, \"nathan\")\n",
        "aList.insert(3, \"mike\")\n",
        "aList.append('''`1234567890-  qwertyuiop[]\\ASDFGHJKL;'\n",
        "ZXCVBNM,./ ''')\n",
        "aList.append(d)\n",
        "bList = [\"😀😃😄😁😆😅😂🤣🥲😊😇🙂🙃😉😌🥰😘😗😗😙😚😋😛😝😜🤪🤨🧐🤓😎🥸🤩🥳🙂😔😟😕🙁😣😖😫😩🥺😢😭😤😠😡🤬🤯😳🥵🥶😶😱😨😰😥😓🤗🤔🤭🤥😶😐😑😬🙄😯😦😧😮\"]\n",
        "aList.extend(bList)\n",
        "print(aList)"
      ],
      "metadata": {
        "colab": {
          "base_uri": "https://localhost:8080/"
        },
        "id": "L_meCIqi_JU5",
        "outputId": "16902e5b-e56f-49c8-e771-1d7b542c6161"
      },
      "execution_count": null,
      "outputs": [
        {
          "output_type": "stream",
          "name": "stdout",
          "text": [
            "['jack', 'john', 'nathan', 'mike', 'sam', \"`1234567890-  qwertyuiop[]\\\\ASDFGHJKL;'\\nZXCVBNM,./ \", 'the entire keyboard', '😀😃😄😁😆😅😂🤣🥲😊😇🙂🙃😉😌🥰😘😗😗😙😚😋😛😝😜🤪🤨🧐🤓😎🥸🤩🥳🙂😔😟😕🙁😣😖😫😩🥺😢😭😤😠😡🤬🤯😳🥵🥶😶😱😨😰😥😓🤗🤔🤭🤥😶😐😑😬🙄😯😦😧😮']\n"
          ]
        }
      ]
    },
    {
      "cell_type": "code",
      "source": [
        "a = \"elephants are cool\"\n",
        "b = '''I live in the bay area'''\n",
        "print(a)\n",
        "print(b)"
      ],
      "metadata": {
        "colab": {
          "base_uri": "https://localhost:8080/"
        },
        "id": "pi1U92mL_JXf",
        "outputId": "8f222883-2838-44bf-f8e8-f2c6d665a526"
      },
      "execution_count": null,
      "outputs": [
        {
          "output_type": "stream",
          "name": "stdout",
          "text": [
            "elephants are cool\n",
            "I live in the bay area\n"
          ]
        }
      ]
    },
    {
      "cell_type": "code",
      "source": [
        "c = 'I am a good person'\n",
        "print(c[2:10:2])"
      ],
      "metadata": {
        "colab": {
          "base_uri": "https://localhost:8080/"
        },
        "id": "Bn7YdzQ8_Jan",
        "outputId": "07314f41-bd01-4a4a-aa53-ff576b37c3dc"
      },
      "execution_count": null,
      "outputs": [
        {
          "output_type": "stream",
          "name": "stdout",
          "text": [
            "a  o\n"
          ]
        }
      ]
    },
    {
      "cell_type": "code",
      "source": [
        "aList.pop(4)\n",
        "print(aList)"
      ],
      "metadata": {
        "colab": {
          "base_uri": "https://localhost:8080/"
        },
        "id": "2xIgtIUIQHkY",
        "outputId": "addbad04-2ae6-435c-a4ce-751d490fb9e2"
      },
      "execution_count": null,
      "outputs": [
        {
          "output_type": "stream",
          "name": "stdout",
          "text": [
            "['jack', 'john', 'nathan', 'mike', \"`1234567890-  qwertyuiop[]\\\\ASDFGHJKL;'\\nZXCVBNM,./ \", 'the entire keyboard', '😀😃😄😁😆😅😂🤣🥲😊😇🙂🙃😉😌🥰😘😗😗😙😚😋😛😝😜🤪🤨🧐🤓😎🥸🤩🥳🙂😔😟😕🙁😣😖😫😩🥺😢😭😤😠😡🤬🤯😳🥵🥶😶😱😨😰😥😓🤗🤔🤭🤥😶😐😑😬🙄😯😦😧😮']\n"
          ]
        }
      ]
    },
    {
      "cell_type": "code",
      "source": [
        "aList.clear()\n",
        "print(aList)"
      ],
      "metadata": {
        "colab": {
          "base_uri": "https://localhost:8080/"
        },
        "id": "zbq5vKNl_Jde",
        "outputId": "b5e9e5d1-2a20-4125-b38e-f6946f491fbe"
      },
      "execution_count": null,
      "outputs": [
        {
          "output_type": "stream",
          "name": "stdout",
          "text": [
            "[]\n"
          ]
        }
      ]
    },
    {
      "source": [
        "print(a.replace(a[7], a[7].upper()))"
      ],
      "cell_type": "code",
      "metadata": {
        "colab": {
          "base_uri": "https://localhost:8080/"
        },
        "id": "eFyIxP_iNlRE",
        "outputId": "36b30cee-ed92-4f67-e996-24110b8b12c2"
      },
      "execution_count": null,
      "outputs": [
        {
          "output_type": "stream",
          "name": "stdout",
          "text": [
            "elephanTs are cool\n"
          ]
        }
      ]
    },
    {
      "source": [
        "str = \"hello, hi, how, are, you\"\n",
        "str.split(',')"
      ],
      "cell_type": "code",
      "metadata": {
        "colab": {
          "base_uri": "https://localhost:8080/"
        },
        "id": "df-AXoWJNl3A",
        "outputId": "d9e4b841-147e-4749-f729-003ff418707a"
      },
      "execution_count": null,
      "outputs": [
        {
          "output_type": "execute_result",
          "data": {
            "text/plain": [
              "['hello', ' hi', ' how', ' are', ' you']"
            ]
          },
          "metadata": {},
          "execution_count": 291
        }
      ]
    },
    {
      "source": [
        "lis = [1, 2, 3, 4, 5]\n",
        "len(lis)"
      ],
      "cell_type": "code",
      "metadata": {
        "colab": {
          "base_uri": "https://localhost:8080/"
        },
        "id": "adLL9FZxNmRW",
        "outputId": "f542356e-7ee9-4016-aa3e-1f25dc5c2046"
      },
      "execution_count": null,
      "outputs": [
        {
          "output_type": "execute_result",
          "data": {
            "text/plain": [
              "5"
            ]
          },
          "metadata": {},
          "execution_count": 292
        }
      ]
    },
    {
      "cell_type": "code",
      "source": [
        "str2 = \"I love watching movies\"\n",
        "str2 = str2.replace(\"movies\", \"tv shows\")\n",
        "print(str2)"
      ],
      "metadata": {
        "colab": {
          "base_uri": "https://localhost:8080/"
        },
        "id": "aFh9HWfAbJJk",
        "outputId": "f7c8cd96-692b-4402-ce39-61e3a9c4c54d"
      },
      "execution_count": null,
      "outputs": [
        {
          "output_type": "stream",
          "name": "stdout",
          "text": [
            "I love watching tv shows\n"
          ]
        }
      ]
    },
    {
      "cell_type": "code",
      "source": [
        "print(10>3)"
      ],
      "metadata": {
        "colab": {
          "base_uri": "https://localhost:8080/"
        },
        "id": "W5pKLHSxe95Z",
        "outputId": "d4e8b250-2402-4265-a3e4-da730d4e48b5"
      },
      "execution_count": null,
      "outputs": [
        {
          "output_type": "stream",
          "name": "stdout",
          "text": [
            "True\n"
          ]
        }
      ]
    },
    {
      "cell_type": "code",
      "source": [
        "x = 10\n",
        "y = 3\n",
        "x+=y\n",
        "print(x)"
      ],
      "metadata": {
        "colab": {
          "base_uri": "https://localhost:8080/"
        },
        "id": "Z3qTyp5uhU_X",
        "outputId": "6f26ab46-bb72-42fe-b18a-3516dadabe9d"
      },
      "execution_count": null,
      "outputs": [
        {
          "output_type": "stream",
          "name": "stdout",
          "text": [
            "13\n"
          ]
        }
      ]
    },
    {
      "cell_type": "code",
      "source": [
        "fruits = [\"apple\", \"banana\", \"cherry\"]\n",
        "fruits[1] = (\"mango\")\n",
        "print(fruits)"
      ],
      "metadata": {
        "colab": {
          "base_uri": "https://localhost:8080/"
        },
        "id": "qshgjesvnB6b",
        "outputId": "a4a7d01f-ffa0-44bd-c42a-0dfde4483b40"
      },
      "execution_count": null,
      "outputs": [
        {
          "output_type": "stream",
          "name": "stdout",
          "text": [
            "['apple', 'mango', 'cherry']\n"
          ]
        }
      ]
    },
    {
      "cell_type": "code",
      "source": [
        "animals = [\"lion, tiger, elephant, cheetah, jaguar, bear\"]\n",
        "animals[3:5] = (\"hippopotamus\", \"kangaroo\")\n",
        "print(animals)"
      ],
      "metadata": {
        "colab": {
          "base_uri": "https://localhost:8080/"
        },
        "id": "q8mpk_FwpHMB",
        "outputId": "704d7276-d4d0-406b-f447-86e474cd9f9e"
      },
      "execution_count": null,
      "outputs": [
        {
          "output_type": "stream",
          "name": "stdout",
          "text": [
            "['lion, tiger, elephant, cheetah, jaguar, bear', 'hippopotamus', 'kangaroo']\n"
          ]
        }
      ]
    },
    {
      "cell_type": "code",
      "source": [
        "aList.sort()\n",
        "print(aList)"
      ],
      "metadata": {
        "colab": {
          "base_uri": "https://localhost:8080/"
        },
        "id": "VQ5DjAr7U0et",
        "outputId": "b5eb4cb8-3bbc-44e1-c0be-56d0d90fde3f"
      },
      "execution_count": null,
      "outputs": [
        {
          "output_type": "stream",
          "name": "stdout",
          "text": [
            "[]\n"
          ]
        }
      ]
    },
    {
      "cell_type": "code",
      "source": [
        "aList.reverse()\n",
        "print(aList)"
      ],
      "metadata": {
        "colab": {
          "base_uri": "https://localhost:8080/"
        },
        "id": "C3JsreHEU0gw",
        "outputId": "49f8a003-6cc0-419b-8445-b1dea4bc13c3"
      },
      "execution_count": null,
      "outputs": [
        {
          "output_type": "stream",
          "name": "stdout",
          "text": [
            "[]\n"
          ]
        }
      ]
    },
    {
      "cell_type": "code",
      "source": [
        "a = (1, 2, 3, 4, 5)\n",
        "b = list(a)\n",
        "print(type(b))"
      ],
      "metadata": {
        "colab": {
          "base_uri": "https://localhost:8080/"
        },
        "id": "XfWkFcnXU0j4",
        "outputId": "8b73ed25-4b59-46e7-e8bb-1251e00995b4"
      },
      "execution_count": null,
      "outputs": [
        {
          "output_type": "stream",
          "name": "stdout",
          "text": [
            "<class 'list'>\n"
          ]
        }
      ]
    },
    {
      "cell_type": "code",
      "source": [
        "b.insert(6, 6)\n",
        "print(b)"
      ],
      "metadata": {
        "colab": {
          "base_uri": "https://localhost:8080/"
        },
        "id": "gXvTynnwU0mf",
        "outputId": "59725c39-db40-4c88-cf37-ab4979e5d60a"
      },
      "execution_count": null,
      "outputs": [
        {
          "output_type": "stream",
          "name": "stdout",
          "text": [
            "[1, 2, 3, 4, 5, 6]\n"
          ]
        }
      ]
    },
    {
      "cell_type": "code",
      "source": [
        "set = {1,5,2,3,5,4,7,8,26,58,47,834,7452,8,84,7547,452,5742,7245,8,42,84,824,842,8524,842,84,54,5824,8,8,245,74,5742,5854,58,257,4,243,4724,27,5,48,82,57,4,28,584,2854,5248858,285}\n",
        "print(set)"
      ],
      "metadata": {
        "colab": {
          "base_uri": "https://localhost:8080/"
        },
        "id": "61PA1VrRU0o1",
        "outputId": "5ff83c70-e399-4f5d-caeb-045808aa2c5f"
      },
      "execution_count": null,
      "outputs": [
        {
          "output_type": "stream",
          "name": "stdout",
          "text": [
            "{1, 2, 3, 4, 5, 257, 7, 8, 26, 27, 28, 7452, 285, 2854, 42, 47, 48, 54, 824, 57, 58, 5824, 834, 452, 584, 842, 74, 8524, 7245, 82, 84, 5248858, 5854, 5742, 243, 4724, 245, 7547}\n"
          ]
        }
      ]
    },
    {
      "cell_type": "code",
      "source": [
        "names = {\"jack\", \"john\", \"sam\", \"mike\", \"stan\", \"mason\"}\n",
        "names.add(\"steve\")\n",
        "names2 = {\"bob\", \"ren\", \"luke\"}\n",
        "print(names)"
      ],
      "metadata": {
        "colab": {
          "base_uri": "https://localhost:8080/"
        },
        "id": "mQwHg04eU0sO",
        "outputId": "1b9b84f6-9ae2-442e-83ac-078690a64cc2"
      },
      "execution_count": null,
      "outputs": [
        {
          "output_type": "stream",
          "name": "stdout",
          "text": [
            "{'mike', 'jack', 'john', 'sam', 'steve', 'mason', 'stan'}\n"
          ]
        }
      ]
    },
    {
      "cell_type": "code",
      "source": [
        "names.discard(\"ethan\")\n",
        "print(names)"
      ],
      "metadata": {
        "colab": {
          "base_uri": "https://localhost:8080/"
        },
        "id": "g5LsKwd7U0uj",
        "outputId": "8ceb7eeb-ec96-4d7c-97a0-a186af211ca3"
      },
      "execution_count": null,
      "outputs": [
        {
          "output_type": "stream",
          "name": "stdout",
          "text": [
            "{'mike', 'jack', 'john', 'sam', 'steve', 'mason', 'stan'}\n"
          ]
        }
      ]
    },
    {
      "cell_type": "code",
      "source": [
        "a = {1, 2, 3, 4, 5}\n",
        "b = {1, 2, 3, 7, 8}\n",
        "c = b.difference(a)\n",
        "print(c)"
      ],
      "metadata": {
        "colab": {
          "base_uri": "https://localhost:8080/"
        },
        "id": "zB7s66JNU0xa",
        "outputId": "c3374db1-e2c3-4c6d-d209-cf4a7ca84f4d"
      },
      "execution_count": null,
      "outputs": [
        {
          "output_type": "stream",
          "name": "stdout",
          "text": [
            "{8, 7}\n"
          ]
        }
      ]
    },
    {
      "cell_type": "code",
      "source": [
        "a = 12345678900987039837018760139873069873159470397098493760708836907381998412\n",
        "def even_number():\n",
        "  if a%2 == 0:\n",
        "    print(\"even\")\n",
        "  else:\n",
        "    print(\"odd\")\n",
        "even_number()"
      ],
      "metadata": {
        "colab": {
          "base_uri": "https://localhost:8080/"
        },
        "id": "oUPSRpB6U00C",
        "outputId": "4dccd56b-993a-44a4-fff9-e381613fa788"
      },
      "execution_count": null,
      "outputs": [
        {
          "output_type": "stream",
          "name": "stdout",
          "text": [
            "even\n"
          ]
        }
      ]
    },
    {
      "cell_type": "code",
      "source": [
        "lis = [1,2,3,4,5,6,7]\n",
        "if len(lis) % 2 == 0:\n",
        "  lis.reverse()\n",
        "\n",
        "print(lis)"
      ],
      "metadata": {
        "colab": {
          "base_uri": "https://localhost:8080/"
        },
        "id": "l5bBlJGJU02o",
        "outputId": "43c0264e-8837-4663-bccf-1fbd8ab5b038"
      },
      "execution_count": null,
      "outputs": [
        {
          "output_type": "stream",
          "name": "stdout",
          "text": [
            "[1, 2, 3, 4, 5, 6, 7]\n"
          ]
        }
      ]
    },
    {
      "cell_type": "code",
      "source": [
        "abc = [3]\n",
        "count = 0\n",
        "for i in abc:\n",
        "  count = count + 1\n",
        "  print(\"sdrawkcab yknits si ecarg\")\n",
        "print(count)"
      ],
      "metadata": {
        "colab": {
          "base_uri": "https://localhost:8080/"
        },
        "id": "lhKXZ9nQU05P",
        "outputId": "982b3beb-2408-4ab0-e9df-59cac7ca16f9"
      },
      "execution_count": null,
      "outputs": [
        {
          "output_type": "stream",
          "name": "stdout",
          "text": [
            "sdrawkcab yknits si ecarg\n",
            "1\n"
          ]
        }
      ]
    },
    {
      "cell_type": "code",
      "source": [
        "a = ['man', 'cat', 'dog']\n",
        "b = [[0,1],[0,2],[0,3]]\n",
        "print(a[0])\n",
        "print(a[0][0])\n",
        "print(b[2][1])"
      ],
      "metadata": {
        "id": "rVdPXGtfU07l",
        "colab": {
          "base_uri": "https://localhost:8080/"
        },
        "outputId": "cc7dd047-bf30-4588-ad6c-eb2bcb648f8e"
      },
      "execution_count": null,
      "outputs": [
        {
          "output_type": "stream",
          "name": "stdout",
          "text": [
            "man\n",
            "m\n",
            "3\n"
          ]
        }
      ]
    },
    {
      "cell_type": "code",
      "source": [],
      "metadata": {
        "id": "88sESOOoU1Ah"
      },
      "execution_count": null,
      "outputs": []
    },
    {
      "cell_type": "code",
      "source": [],
      "metadata": {
        "id": "tpLseI0KU1DI"
      },
      "execution_count": null,
      "outputs": []
    },
    {
      "cell_type": "code",
      "source": [],
      "metadata": {
        "id": "DF22KfDvU1Fv"
      },
      "execution_count": null,
      "outputs": []
    },
    {
      "cell_type": "code",
      "source": [],
      "metadata": {
        "id": "HVvdAtAxU1IW"
      },
      "execution_count": null,
      "outputs": []
    },
    {
      "cell_type": "code",
      "source": [],
      "metadata": {
        "id": "MabOISNPU1K9"
      },
      "execution_count": null,
      "outputs": []
    },
    {
      "cell_type": "code",
      "source": [],
      "metadata": {
        "id": "MMfIKDXeU1Nj"
      },
      "execution_count": null,
      "outputs": []
    },
    {
      "cell_type": "code",
      "source": [],
      "metadata": {
        "id": "hdply1DgU1Qa"
      },
      "execution_count": null,
      "outputs": []
    },
    {
      "cell_type": "code",
      "source": [],
      "metadata": {
        "id": "WAS-pFLYU1TB"
      },
      "execution_count": null,
      "outputs": []
    },
    {
      "cell_type": "code",
      "source": [],
      "metadata": {
        "id": "uDOAvNf1U1WJ"
      },
      "execution_count": null,
      "outputs": []
    },
    {
      "cell_type": "code",
      "source": [],
      "metadata": {
        "id": "9uPHe-AVU1ZA"
      },
      "execution_count": null,
      "outputs": []
    },
    {
      "cell_type": "code",
      "source": [],
      "metadata": {
        "id": "r0Ox3W7pU1b4"
      },
      "execution_count": null,
      "outputs": []
    },
    {
      "cell_type": "code",
      "source": [],
      "metadata": {
        "id": "6lqXC0TdU1eN"
      },
      "execution_count": null,
      "outputs": []
    },
    {
      "cell_type": "code",
      "source": [],
      "metadata": {
        "id": "g4gWNybYU1j9"
      },
      "execution_count": null,
      "outputs": []
    },
    {
      "cell_type": "code",
      "source": [],
      "metadata": {
        "id": "QaTOwldvU1m0"
      },
      "execution_count": null,
      "outputs": []
    },
    {
      "cell_type": "code",
      "source": [],
      "metadata": {
        "id": "fSJvB2fpU1pa"
      },
      "execution_count": null,
      "outputs": []
    },
    {
      "cell_type": "code",
      "source": [],
      "metadata": {
        "id": "-I0lgA9wU1sk"
      },
      "execution_count": null,
      "outputs": []
    },
    {
      "cell_type": "code",
      "source": [],
      "metadata": {
        "id": "_hRLYkLMU1va"
      },
      "execution_count": null,
      "outputs": []
    },
    {
      "cell_type": "code",
      "source": [],
      "metadata": {
        "id": "L0N70pV5U1yR"
      },
      "execution_count": null,
      "outputs": []
    },
    {
      "cell_type": "code",
      "source": [],
      "metadata": {
        "id": "YaV3yeQoU11I"
      },
      "execution_count": null,
      "outputs": []
    },
    {
      "cell_type": "code",
      "source": [],
      "metadata": {
        "id": "-1Q9N5Y7U13w"
      },
      "execution_count": null,
      "outputs": []
    },
    {
      "cell_type": "code",
      "source": [],
      "metadata": {
        "id": "9AVws5h8U16n"
      },
      "execution_count": null,
      "outputs": []
    },
    {
      "cell_type": "code",
      "source": [],
      "metadata": {
        "id": "4Wc71cWdU19e"
      },
      "execution_count": null,
      "outputs": []
    },
    {
      "cell_type": "code",
      "source": [],
      "metadata": {
        "id": "gDdrwFS1U2AE"
      },
      "execution_count": null,
      "outputs": []
    },
    {
      "cell_type": "code",
      "source": [],
      "metadata": {
        "id": "X1mDTFDgU2De"
      },
      "execution_count": null,
      "outputs": []
    },
    {
      "cell_type": "code",
      "source": [],
      "metadata": {
        "id": "OvzJRnlYU2Go"
      },
      "execution_count": null,
      "outputs": []
    },
    {
      "cell_type": "code",
      "source": [],
      "metadata": {
        "id": "z83-XshVU2Jt"
      },
      "execution_count": null,
      "outputs": []
    },
    {
      "cell_type": "code",
      "source": [],
      "metadata": {
        "id": "Fzp_jF6qU2Mk"
      },
      "execution_count": null,
      "outputs": []
    },
    {
      "cell_type": "code",
      "source": [],
      "metadata": {
        "id": "WnmzQ9DrU2Ps"
      },
      "execution_count": null,
      "outputs": []
    },
    {
      "cell_type": "code",
      "source": [],
      "metadata": {
        "id": "bXFmarUGU2S1"
      },
      "execution_count": null,
      "outputs": []
    },
    {
      "cell_type": "code",
      "source": [],
      "metadata": {
        "id": "MWhkmqKzU2Vs"
      },
      "execution_count": null,
      "outputs": []
    },
    {
      "cell_type": "code",
      "source": [],
      "metadata": {
        "id": "WV8frJ9YU2Y0"
      },
      "execution_count": null,
      "outputs": []
    },
    {
      "cell_type": "code",
      "source": [],
      "metadata": {
        "id": "h3Ary12KU2b8"
      },
      "execution_count": null,
      "outputs": []
    },
    {
      "cell_type": "code",
      "source": [],
      "metadata": {
        "id": "2-72ZT5BU2ez"
      },
      "execution_count": null,
      "outputs": []
    },
    {
      "cell_type": "code",
      "source": [],
      "metadata": {
        "id": "k_MExFmoU2ha"
      },
      "execution_count": null,
      "outputs": []
    },
    {
      "cell_type": "code",
      "source": [],
      "metadata": {
        "id": "nC10wlVxU2kj"
      },
      "execution_count": null,
      "outputs": []
    },
    {
      "cell_type": "code",
      "source": [],
      "metadata": {
        "id": "AFwImVLxU2nb"
      },
      "execution_count": null,
      "outputs": []
    },
    {
      "cell_type": "code",
      "source": [],
      "metadata": {
        "id": "IpH7CY6EU2qR"
      },
      "execution_count": null,
      "outputs": []
    },
    {
      "cell_type": "code",
      "source": [],
      "metadata": {
        "id": "vLkNik0QU2vv"
      },
      "execution_count": null,
      "outputs": []
    },
    {
      "cell_type": "code",
      "source": [],
      "metadata": {
        "id": "r_KUIDrcU2yn"
      },
      "execution_count": null,
      "outputs": []
    },
    {
      "cell_type": "code",
      "source": [],
      "metadata": {
        "id": "b_PKTDR6U21e"
      },
      "execution_count": null,
      "outputs": []
    },
    {
      "cell_type": "code",
      "source": [],
      "metadata": {
        "id": "9-KVvG2cU242"
      },
      "execution_count": null,
      "outputs": []
    },
    {
      "cell_type": "code",
      "source": [],
      "metadata": {
        "id": "qWCst11VU26r"
      },
      "execution_count": null,
      "outputs": []
    }
  ]
}